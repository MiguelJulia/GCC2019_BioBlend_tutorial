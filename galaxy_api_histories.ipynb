{
 "cells": [
  {
   "cell_type": "markdown",
   "metadata": {},
   "source": [
    "Interacting with histories in Galaxy API\n",
    "========================================\n",
    "\n",
    "We are going to use the [requests](http://python-requests.org/) Python library to communicate via HTTP with the Galaxy server. To start, let's define the connection parameters.\n",
    "\n",
    "**You need to insert the API key for your Galaxy server in the cell below**: \n",
    "1. Open the Galaxy server in another browser tab\n",
    "2. Click on \"User\" on the top menu, then \"Preferences\"\n",
    "3. Click on \"Manage API key\"\n",
    "4. Generate an API key if needed, then copy the alphanumeric string and paste it as the value of the `api_key` variable below."
   ]
  },
  {
   "cell_type": "code",
   "execution_count": 1,
   "metadata": {},
   "outputs": [
    {
     "data": {
      "text/plain": [
       "'https://usegalaxy.org/api'"
      ]
     },
     "execution_count": 1,
     "metadata": {},
     "output_type": "execute_result"
    }
   ],
   "source": [
    "from __future__ import print_function\n",
    "\n",
    "import json\n",
    "\n",
    "import requests\n",
    "from six.moves.urllib.parse import urljoin\n",
    "\n",
    "server = 'https://usegalaxy.org/'\n",
    "api_key = '1a6625037e2a986f36dc17e0324743fa'\n",
    "base_url = urljoin(server, 'api')\n",
    "base_url"
   ]
  },
  {
   "cell_type": "markdown",
   "metadata": {},
   "source": [
    "We now make a GET request to retrieve all histories owned by a user:"
   ]
  },
  {
   "cell_type": "code",
   "execution_count": 2,
   "metadata": {},
   "outputs": [
    {
     "name": "stdout",
     "output_type": "stream",
     "text": [
      "[{\"name\": \"New history\", \"tags\": [], \"deleted\": false, \"purged\": false, \"annotation\": null, \"url\": \"/api/histories/c5d5276103ac10f1\", \"published\": false, \"model_class\": \"History\", \"id\": \"c5d5276103ac10f1\"}, {\"name\": \"New history\", \"tags\": [], \"deleted\": false, \"purged\": false, \"annotation\": null, \"url\": \"/api/histories/435930ea78663f6f\", \"published\": false, \"model_class\": \"History\", \"id\": \"435930ea78663f6f\"}, {\"name\": \"New history\", \"tags\": [], \"deleted\": false, \"purged\": false, \"annotation\": null, \"url\": \"/api/histories/153c3c9e6e15ceaa\", \"published\": false, \"model_class\": \"History\", \"id\": \"153c3c9e6e15ceaa\"}, {\"name\": \"Unnamed history\", \"tags\": [], \"deleted\": false, \"purged\": false, \"annotation\": null, \"url\": \"/api/histories/ccaaa3957982cf4b\", \"published\": false, \"model_class\": \"History\", \"id\": \"ccaaa3957982cf4b\"}]\n"
     ]
    },
    {
     "data": {
      "text/plain": [
       "[{u'annotation': None,\n",
       "  u'deleted': False,\n",
       "  u'id': u'c5d5276103ac10f1',\n",
       "  u'model_class': u'History',\n",
       "  u'name': u'New history',\n",
       "  u'published': False,\n",
       "  u'purged': False,\n",
       "  u'tags': [],\n",
       "  u'url': u'/api/histories/c5d5276103ac10f1'},\n",
       " {u'annotation': None,\n",
       "  u'deleted': False,\n",
       "  u'id': u'435930ea78663f6f',\n",
       "  u'model_class': u'History',\n",
       "  u'name': u'New history',\n",
       "  u'published': False,\n",
       "  u'purged': False,\n",
       "  u'tags': [],\n",
       "  u'url': u'/api/histories/435930ea78663f6f'},\n",
       " {u'annotation': None,\n",
       "  u'deleted': False,\n",
       "  u'id': u'153c3c9e6e15ceaa',\n",
       "  u'model_class': u'History',\n",
       "  u'name': u'New history',\n",
       "  u'published': False,\n",
       "  u'purged': False,\n",
       "  u'tags': [],\n",
       "  u'url': u'/api/histories/153c3c9e6e15ceaa'},\n",
       " {u'annotation': None,\n",
       "  u'deleted': False,\n",
       "  u'id': u'ccaaa3957982cf4b',\n",
       "  u'model_class': u'History',\n",
       "  u'name': u'Unnamed history',\n",
       "  u'published': False,\n",
       "  u'purged': False,\n",
       "  u'tags': [],\n",
       "  u'url': u'/api/histories/ccaaa3957982cf4b'}]"
      ]
     },
     "execution_count": 2,
     "metadata": {},
     "output_type": "execute_result"
    }
   ],
   "source": [
    "params = {'key': api_key}\n",
    "r = requests.get(base_url + '/histories', params)\n",
    "print(r.text)\n",
    "hists = r.json()\n",
    "hists"
   ]
  },
  {
   "cell_type": "markdown",
   "metadata": {},
   "source": [
    "As you can see, GET requests in Galaxy API return JSON strings, which need to be **deserialized** into Python data structures. In particular, GETting a resource collection returns a list of dictionaries.\n",
    "\n",
    "Each dictionary returned when GETting a resource collection gives basic info about a resource, e.g. for a history you have:\n",
    "- `id`: the unique **identifier** of the history, needed for all specific requests about this resource\n",
    "- `name`: the name of this history as given by the user\n",
    "- `deleted`: whether the history has been deleted\n",
    "- `url`: the relative URL to get all info about this resource.\n",
    "\n",
    "There is no readily-available filtering capability, but it's not difficult to filter histories **by name**:"
   ]
  },
  {
   "cell_type": "code",
   "execution_count": 3,
   "metadata": {},
   "outputs": [
    {
     "data": {
      "text/plain": [
       "[{u'annotation': None,\n",
       "  u'deleted': False,\n",
       "  u'id': u'ccaaa3957982cf4b',\n",
       "  u'model_class': u'History',\n",
       "  u'name': u'Unnamed history',\n",
       "  u'published': False,\n",
       "  u'purged': False,\n",
       "  u'tags': [],\n",
       "  u'url': u'/api/histories/ccaaa3957982cf4b'}]"
      ]
     },
     "execution_count": 3,
     "metadata": {},
     "output_type": "execute_result"
    }
   ],
   "source": [
    "[_ for _ in hists if _['name'] == 'Unnamed history']"
   ]
  },
  {
   "cell_type": "markdown",
   "metadata": {},
   "source": [
    "If you are interested in more **details** about a given resource, you just need to append its `id` to the previous collection request, e.g. to the get more info for a history:"
   ]
  },
  {
   "cell_type": "code",
   "execution_count": 4,
   "metadata": {},
   "outputs": [
    {
     "name": "stdout",
     "output_type": "stream",
     "text": [
      "c5d5276103ac10f1\n"
     ]
    },
    {
     "data": {
      "text/plain": [
       "{u'annotation': None,\n",
       " u'contents_url': u'/api/histories/c5d5276103ac10f1/contents',\n",
       " u'create_time': u'2019-07-02T14:48:13.162661',\n",
       " u'deleted': False,\n",
       " u'empty': False,\n",
       " u'genome_build': None,\n",
       " u'id': u'c5d5276103ac10f1',\n",
       " u'importable': False,\n",
       " u'model_class': u'History',\n",
       " u'name': u'New history',\n",
       " u'published': False,\n",
       " u'purged': False,\n",
       " u'size': 0,\n",
       " u'slug': None,\n",
       " u'state': u'queued',\n",
       " u'state_details': {u'discarded': 0,\n",
       "  u'empty': 0,\n",
       "  u'error': 0,\n",
       "  u'failed_metadata': 0,\n",
       "  u'new': 1,\n",
       "  u'ok': 0,\n",
       "  u'paused': 0,\n",
       "  u'queued': 1,\n",
       "  u'running': 0,\n",
       "  u'setting_metadata': 0,\n",
       "  u'upload': 0},\n",
       " u'state_ids': {u'discarded': [],\n",
       "  u'empty': [],\n",
       "  u'error': [],\n",
       "  u'failed_metadata': [],\n",
       "  u'new': [u'bbd44e69cb8906b542d15e93bc4cf528'],\n",
       "  u'ok': [],\n",
       "  u'paused': [],\n",
       "  u'queued': [u'bbd44e69cb8906b569ca5e103d37687f'],\n",
       "  u'running': [],\n",
       "  u'setting_metadata': [],\n",
       "  u'upload': []},\n",
       " u'tags': [],\n",
       " u'update_time': u'2019-07-02T14:48:39.899514',\n",
       " u'url': u'/api/histories/c5d5276103ac10f1',\n",
       " u'user_id': u'2841a31c8997a2d3',\n",
       " u'username_and_slug': None}"
      ]
     },
     "execution_count": 4,
     "metadata": {},
     "output_type": "execute_result"
    }
   ],
   "source": [
    "hist0_id = hists[0]['id']\n",
    "print(hist0_id)\n",
    "params = {'key': api_key}\n",
    "r = requests.get(base_url + '/histories/' + hist0_id, params)\n",
    "r.json()"
   ]
  },
  {
   "cell_type": "markdown",
   "metadata": {},
   "source": [
    "As you can see, there are much more entries in the returned dictionary, e.g.:\n",
    "- `create_time`\n",
    "- `size`: total disk space used by the history\n",
    "- `state_ids`: ids of history datasets for each possible state.\n",
    "\n",
    "To get the list of **datasets contained** in a history, simply append `/contents` to the previous resource request."
   ]
  },
  {
   "cell_type": "code",
   "execution_count": 5,
   "metadata": {},
   "outputs": [
    {
     "data": {
      "text/plain": [
       "[{u'create_time': u'2019-07-02T14:48:18.739845',\n",
       "  u'dataset_id': u'bbd44e69cb8906b5c74c308e0955b174',\n",
       "  u'deleted': False,\n",
       "  u'extension': u'auto',\n",
       "  u'hid': 1,\n",
       "  u'history_content_type': u'dataset',\n",
       "  u'history_id': u'c5d5276103ac10f1',\n",
       "  u'id': u'bbd44e69cb8906b569ca5e103d37687f',\n",
       "  u'name': u'1.txt',\n",
       "  u'purged': False,\n",
       "  u'state': u'queued',\n",
       "  u'tags': [],\n",
       "  u'type': u'file',\n",
       "  u'type_id': u'dataset-bbd44e69cb8906b569ca5e103d37687f',\n",
       "  u'update_time': u'2019-07-02T14:48:18.896395',\n",
       "  u'url': u'/api/histories/c5d5276103ac10f1/contents/bbd44e69cb8906b569ca5e103d37687f',\n",
       "  u'visible': True},\n",
       " {u'create_time': u'2019-07-02T14:48:39.831910',\n",
       "  u'dataset_id': u'bbd44e69cb8906b5aeb2fb6459df02f2',\n",
       "  u'deleted': False,\n",
       "  u'extension': u'tabular',\n",
       "  u'hid': 2,\n",
       "  u'history_content_type': u'dataset',\n",
       "  u'history_id': u'c5d5276103ac10f1',\n",
       "  u'id': u'bbd44e69cb8906b542d15e93bc4cf528',\n",
       "  u'name': u'Convert on data 1',\n",
       "  u'purged': False,\n",
       "  u'state': u'new',\n",
       "  u'tags': [],\n",
       "  u'type': u'file',\n",
       "  u'type_id': u'dataset-bbd44e69cb8906b542d15e93bc4cf528',\n",
       "  u'update_time': u'2019-07-02T14:48:39.961992',\n",
       "  u'url': u'/api/histories/c5d5276103ac10f1/contents/bbd44e69cb8906b542d15e93bc4cf528',\n",
       "  u'visible': True}]"
      ]
     },
     "execution_count": 5,
     "metadata": {},
     "output_type": "execute_result"
    }
   ],
   "source": [
    "params = {'key': api_key}\n",
    "r = requests.get(base_url + '/histories/' + hist0_id + '/contents', params)\n",
    "hdas = r.json()\n",
    "hdas"
   ]
  },
  {
   "cell_type": "markdown",
   "metadata": {},
   "source": [
    "The dictionaries returned when GETting the history content give basic info about each dataset, e.g.: `id`, `name`, `deleted`, `state`, `url`...\n",
    "\n",
    "To get the details about a specific dataset, you can use the `datasets` controller:"
   ]
  },
  {
   "cell_type": "code",
   "execution_count": 6,
   "metadata": {},
   "outputs": [
    {
     "name": "stdout",
     "output_type": "stream",
     "text": [
      "bbd44e69cb8906b569ca5e103d37687f\n"
     ]
    },
    {
     "data": {
      "text/plain": [
       "{u'accessible': True,\n",
       " u'annotation': None,\n",
       " u'api_type': u'file',\n",
       " u'create_time': u'2019-07-02T14:48:18.739845',\n",
       " u'creating_job': u'bbd44e69cb8906b58fd9ba7eb07afdd8',\n",
       " u'data_type': u'galaxy.datatypes.data.Data',\n",
       " u'dataset_id': u'bbd44e69cb8906b5c74c308e0955b174',\n",
       " u'deleted': False,\n",
       " u'display_apps': [],\n",
       " u'display_types': [],\n",
       " u'download_url': u'/api/histories/c5d5276103ac10f1/contents/bbd44e69cb8906b569ca5e103d37687f/display',\n",
       " u'extension': u'auto',\n",
       " u'file_ext': u'auto',\n",
       " u'file_size': 0,\n",
       " u'genome_build': u'?',\n",
       " u'hda_ldda': u'hda',\n",
       " u'hid': 1,\n",
       " u'history_content_type': u'dataset',\n",
       " u'history_id': u'c5d5276103ac10f1',\n",
       " u'id': u'bbd44e69cb8906b569ca5e103d37687f',\n",
       " u'meta_files': [],\n",
       " u'metadata_dbkey': u'?',\n",
       " u'misc_blurb': None,\n",
       " u'misc_info': None,\n",
       " u'model_class': u'HistoryDatasetAssociation',\n",
       " u'name': u'1.txt',\n",
       " u'peek': None,\n",
       " u'purged': False,\n",
       " u'rerunnable': False,\n",
       " u'resubmitted': False,\n",
       " u'state': u'queued',\n",
       " u'tags': [],\n",
       " u'type': u'file',\n",
       " u'type_id': u'dataset-bbd44e69cb8906b569ca5e103d37687f',\n",
       " u'update_time': u'2019-07-02T14:48:18.896395',\n",
       " u'url': u'/api/histories/c5d5276103ac10f1/contents/bbd44e69cb8906b569ca5e103d37687f',\n",
       " u'uuid': u'f2082787-c005-475c-bb9d-ed02c649709b',\n",
       " u'visible': True,\n",
       " u'visualizations': []}"
      ]
     },
     "execution_count": 6,
     "metadata": {},
     "output_type": "execute_result"
    }
   ],
   "source": [
    "hda0_id = hdas[0]['id']\n",
    "print(hda0_id)\n",
    "params = {'key': api_key}\n",
    "r = requests.get(base_url + '/datasets/' + hda0_id, params)\n",
    "r.json()"
   ]
  },
  {
   "cell_type": "markdown",
   "metadata": {},
   "source": [
    "Some of the interesting additional dictionary entries are:\n",
    "- `create_time`\n",
    "- `creating job`: id of the job which created this dataset\n",
    "- `download_url`: URL to download the dataset\n",
    "- `file_ext`: the Galaxy data type of this dataset\n",
    "- `file_size`\n",
    "- `genome_build`: the genome build (dbkey) associated to this dataset.\n",
    "\n",
    "**New resources** are created with POST requests. The uploaded **data needs to be serialized** in a JSON string. For example, to create a new history:"
   ]
  },
  {
   "cell_type": "code",
   "execution_count": 7,
   "metadata": {},
   "outputs": [
    {
     "data": {
      "text/plain": [
       "{u'annotation': None,\n",
       " u'contents_url': u'/api/histories/4c8f0af535599c16/contents',\n",
       " u'create_time': u'2019-07-02T14:49:15.151782',\n",
       " u'deleted': False,\n",
       " u'empty': True,\n",
       " u'genome_build': None,\n",
       " u'id': u'4c8f0af535599c16',\n",
       " u'importable': False,\n",
       " u'model_class': u'History',\n",
       " u'name': u'New history',\n",
       " u'published': False,\n",
       " u'purged': False,\n",
       " u'size': 0,\n",
       " u'slug': None,\n",
       " u'state': u'new',\n",
       " u'state_details': {u'discarded': 0,\n",
       "  u'empty': 0,\n",
       "  u'error': 0,\n",
       "  u'failed_metadata': 0,\n",
       "  u'new': 0,\n",
       "  u'ok': 0,\n",
       "  u'paused': 0,\n",
       "  u'queued': 0,\n",
       "  u'running': 0,\n",
       "  u'setting_metadata': 0,\n",
       "  u'upload': 0},\n",
       " u'state_ids': {u'discarded': [],\n",
       "  u'empty': [],\n",
       "  u'error': [],\n",
       "  u'failed_metadata': [],\n",
       "  u'new': [],\n",
       "  u'ok': [],\n",
       "  u'paused': [],\n",
       "  u'queued': [],\n",
       "  u'running': [],\n",
       "  u'setting_metadata': [],\n",
       "  u'upload': []},\n",
       " u'tags': [],\n",
       " u'update_time': u'2019-07-02T14:49:15.151793',\n",
       " u'url': u'/api/histories/4c8f0af535599c16',\n",
       " u'user_id': u'2841a31c8997a2d3',\n",
       " u'username_and_slug': None}"
      ]
     },
     "execution_count": 7,
     "metadata": {},
     "output_type": "execute_result"
    }
   ],
   "source": [
    "params = {'key': api_key}\n",
    "data = {'name': 'New history'}\n",
    "r = requests.post(base_url + '/histories', data=json.dumps(data), params=params, headers={'Content-Type': 'application/json'})\n",
    "new_hist = r.json()\n",
    "new_hist"
   ]
  },
  {
   "cell_type": "markdown",
   "metadata": {},
   "source": [
    "The return value of a POST request is a dictionary with detailed info about the created resource.\n",
    "\n",
    "To **update** a resource, make a PUT request, e.g. to change the history name:"
   ]
  },
  {
   "cell_type": "code",
   "execution_count": 8,
   "metadata": {},
   "outputs": [
    {
     "name": "stdout",
     "output_type": "stream",
     "text": [
      "200\n"
     ]
    },
    {
     "data": {
      "text/plain": [
       "{u'annotation': None,\n",
       " u'contents_url': u'/api/histories/4c8f0af535599c16/contents',\n",
       " u'create_time': u'2019-07-02T14:49:15.151782',\n",
       " u'deleted': False,\n",
       " u'empty': True,\n",
       " u'genome_build': None,\n",
       " u'id': u'4c8f0af535599c16',\n",
       " u'importable': False,\n",
       " u'model_class': u'History',\n",
       " u'name': u'Updated history',\n",
       " u'published': False,\n",
       " u'purged': False,\n",
       " u'size': 0,\n",
       " u'slug': None,\n",
       " u'state': u'new',\n",
       " u'state_details': {u'discarded': 0,\n",
       "  u'empty': 0,\n",
       "  u'error': 0,\n",
       "  u'failed_metadata': 0,\n",
       "  u'new': 0,\n",
       "  u'ok': 0,\n",
       "  u'paused': 0,\n",
       "  u'queued': 0,\n",
       "  u'running': 0,\n",
       "  u'setting_metadata': 0,\n",
       "  u'upload': 0},\n",
       " u'state_ids': {u'discarded': [],\n",
       "  u'empty': [],\n",
       "  u'error': [],\n",
       "  u'failed_metadata': [],\n",
       "  u'new': [],\n",
       "  u'ok': [],\n",
       "  u'paused': [],\n",
       "  u'queued': [],\n",
       "  u'running': [],\n",
       "  u'setting_metadata': [],\n",
       "  u'upload': []},\n",
       " u'tags': [],\n",
       " u'update_time': u'2019-07-02T14:49:18.517751',\n",
       " u'url': u'/api/histories/4c8f0af535599c16',\n",
       " u'user_id': u'2841a31c8997a2d3',\n",
       " u'username_and_slug': None}"
      ]
     },
     "execution_count": 8,
     "metadata": {},
     "output_type": "execute_result"
    }
   ],
   "source": [
    "params = {'key': api_key}\n",
    "data = {'name': 'Updated history'}\n",
    "r = requests.put(base_url + '/histories/' + new_hist['id'], json.dumps(data), params=params, headers={'Content-Type': 'application/json'})\n",
    "print(r.status_code)\n",
    "r.json()"
   ]
  },
  {
   "cell_type": "markdown",
   "metadata": {},
   "source": [
    "The return value of a PUT request is usually a dictionary with detailed info about the updated resource.\n",
    "\n",
    "Finally to **delete** a resource, make a DELETE request, e.g.:"
   ]
  },
  {
   "cell_type": "code",
   "execution_count": 9,
   "metadata": {},
   "outputs": [
    {
     "name": "stdout",
     "output_type": "stream",
     "text": [
      "200\n"
     ]
    }
   ],
   "source": [
    "params = {'key': api_key}\n",
    "r = requests.delete(base_url + '/histories/' + new_hist['id'], params=params)\n",
    "print(r.status_code)"
   ]
  }
 ],
 "metadata": {
  "kernelspec": {
   "display_name": "Python 2",
   "language": "python",
   "name": "python2"
  },
  "language_info": {
   "codemirror_mode": {
    "name": "ipython",
    "version": 2
   },
   "file_extension": ".py",
   "mimetype": "text/x-python",
   "name": "python",
   "nbconvert_exporter": "python",
   "pygments_lexer": "ipython2",
   "version": "2.7.15rc1"
  }
 },
 "nbformat": 4,
 "nbformat_minor": 1
}
