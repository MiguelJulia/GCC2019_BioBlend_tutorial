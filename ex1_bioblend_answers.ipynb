{
 "cells": [
  {
   "cell_type": "markdown",
   "metadata": {},
   "source": [
    "Exercise 1 - Answers for BioBlend\n",
    "=================================\n",
    "\n",
    "**Goal**: Upload a file to a new history, import a workflow and run it on the uploaded dataset.\n",
    "\n",
    "1) Create a `GalaxyInstance` object."
   ]
  },
  {
   "cell_type": "code",
   "execution_count": 3,
   "metadata": {},
   "outputs": [],
   "source": [
    "from __future__ import print_function\n",
    "\n",
    "import bioblend.galaxy\n",
    "\n",
    "server = 'https://usegalaxy.org/'\n",
    "api_key = '1a6625037e2a986f36dc17e0324743fa'\n",
    "gi = bioblend.galaxy.GalaxyInstance(url=server, key=api_key)"
   ]
  },
  {
   "cell_type": "markdown",
   "metadata": {},
   "source": [
    "2) Create a new Galaxy history."
   ]
  },
  {
   "cell_type": "code",
   "execution_count": 4,
   "metadata": {},
   "outputs": [
    {
     "data": {
      "text/plain": [
       "{u'annotation': None,\n",
       " u'contents_url': u'/api/histories/153c3c9e6e15ceaa/contents',\n",
       " u'create_time': u'2019-07-02T14:41:45.100160',\n",
       " u'deleted': False,\n",
       " u'empty': True,\n",
       " u'genome_build': None,\n",
       " u'id': u'153c3c9e6e15ceaa',\n",
       " u'importable': False,\n",
       " u'model_class': u'History',\n",
       " u'name': u'New history',\n",
       " u'published': False,\n",
       " u'purged': False,\n",
       " u'size': 0,\n",
       " u'slug': None,\n",
       " u'state': u'new',\n",
       " u'state_details': {u'discarded': 0,\n",
       "  u'empty': 0,\n",
       "  u'error': 0,\n",
       "  u'failed_metadata': 0,\n",
       "  u'new': 0,\n",
       "  u'ok': 0,\n",
       "  u'paused': 0,\n",
       "  u'queued': 0,\n",
       "  u'running': 0,\n",
       "  u'setting_metadata': 0,\n",
       "  u'upload': 0},\n",
       " u'state_ids': {u'discarded': [],\n",
       "  u'empty': [],\n",
       "  u'error': [],\n",
       "  u'failed_metadata': [],\n",
       "  u'new': [],\n",
       "  u'ok': [],\n",
       "  u'paused': [],\n",
       "  u'queued': [],\n",
       "  u'running': [],\n",
       "  u'setting_metadata': [],\n",
       "  u'upload': []},\n",
       " u'tags': [],\n",
       " u'update_time': u'2019-07-02T14:41:45.100200',\n",
       " u'url': u'/api/histories/153c3c9e6e15ceaa',\n",
       " u'user_id': u'2841a31c8997a2d3',\n",
       " u'username_and_slug': None}"
      ]
     },
     "execution_count": 4,
     "metadata": {},
     "output_type": "execute_result"
    }
   ],
   "source": [
    "new_hist = gi.histories.create_history(name='New history')\n",
    "new_hist"
   ]
  },
  {
   "cell_type": "markdown",
   "metadata": {},
   "source": [
    "3) **Upload** the local file \"~/bioblend-tutorial/test-data/1.txt\" to a new dataset in the created history using `tools.upload_file()` ."
   ]
  },
  {
   "cell_type": "code",
   "execution_count": 5,
   "metadata": {},
   "outputs": [
    {
     "data": {
      "text/plain": [
       "{u'implicit_collections': [],\n",
       " u'jobs': [{u'create_time': u'2019-07-02T14:42:10.922449',\n",
       "   u'exit_code': None,\n",
       "   u'history_id': u'153c3c9e6e15ceaa',\n",
       "   u'id': u'bbd44e69cb8906b58be40a3b61774f4a',\n",
       "   u'model_class': u'Job',\n",
       "   u'state': u'new',\n",
       "   u'tool_id': u'upload1',\n",
       "   u'update_time': u'2019-07-02T14:42:11.127068'}],\n",
       " u'output_collections': [],\n",
       " u'outputs': [{u'create_time': u'2019-07-02T14:42:10.728746',\n",
       "   u'data_type': u'galaxy.datatypes.data.Data',\n",
       "   u'deleted': False,\n",
       "   u'file_ext': u'auto',\n",
       "   u'file_size': 0,\n",
       "   u'genome_build': u'?',\n",
       "   u'hda_ldda': u'hda',\n",
       "   u'hid': 1,\n",
       "   u'history_content_type': u'dataset',\n",
       "   u'history_id': u'153c3c9e6e15ceaa',\n",
       "   u'id': u'bbd44e69cb8906b5e0ba19b79f9fd77a',\n",
       "   u'metadata_dbkey': u'?',\n",
       "   u'misc_blurb': None,\n",
       "   u'misc_info': None,\n",
       "   u'model_class': u'HistoryDatasetAssociation',\n",
       "   u'name': u'1.txt',\n",
       "   u'output_name': u'output0',\n",
       "   u'peek': None,\n",
       "   u'purged': False,\n",
       "   u'state': u'queued',\n",
       "   u'tags': [],\n",
       "   u'update_time': u'2019-07-02T14:42:10.836963',\n",
       "   u'uuid': u'ed2bbfb4-529e-4692-84a9-6056c16c2c0f',\n",
       "   u'visible': True}]}"
      ]
     },
     "execution_count": 5,
     "metadata": {},
     "output_type": "execute_result"
    }
   ],
   "source": [
    "import os\n",
    "ret = gi.tools.upload_file(os.path.join(os.environ['HOME'], \"bioblend-tutorial/test-data/1.txt\"), new_hist['id'])\n",
    "ret"
   ]
  },
  {
   "cell_type": "markdown",
   "metadata": {},
   "source": [
    "4) Find the new uploaded dataset, either from the dict returned by `tools.upload_file()` or from the history contents."
   ]
  },
  {
   "cell_type": "code",
   "execution_count": 6,
   "metadata": {},
   "outputs": [
    {
     "data": {
      "text/plain": [
       "{u'create_time': u'2019-07-02T14:42:10.728746',\n",
       " u'data_type': u'galaxy.datatypes.data.Data',\n",
       " u'deleted': False,\n",
       " u'file_ext': u'auto',\n",
       " u'file_size': 0,\n",
       " u'genome_build': u'?',\n",
       " u'hda_ldda': u'hda',\n",
       " u'hid': 1,\n",
       " u'history_content_type': u'dataset',\n",
       " u'history_id': u'153c3c9e6e15ceaa',\n",
       " u'id': u'bbd44e69cb8906b5e0ba19b79f9fd77a',\n",
       " u'metadata_dbkey': u'?',\n",
       " u'misc_blurb': None,\n",
       " u'misc_info': None,\n",
       " u'model_class': u'HistoryDatasetAssociation',\n",
       " u'name': u'1.txt',\n",
       " u'output_name': u'output0',\n",
       " u'peek': None,\n",
       " u'purged': False,\n",
       " u'state': u'queued',\n",
       " u'tags': [],\n",
       " u'update_time': u'2019-07-02T14:42:10.836963',\n",
       " u'uuid': u'ed2bbfb4-529e-4692-84a9-6056c16c2c0f',\n",
       " u'visible': True}"
      ]
     },
     "execution_count": 6,
     "metadata": {},
     "output_type": "execute_result"
    }
   ],
   "source": [
    "hda = ret['outputs'][0]\n",
    "hda"
   ]
  },
  {
   "cell_type": "markdown",
   "metadata": {},
   "source": [
    "5) **Import a workflow** from the local file \"~/bioblend-tutorial/test-data/convert_to_tab.ga\" using `workflows.import_workflow_from_local_path()` ."
   ]
  },
  {
   "cell_type": "code",
   "execution_count": 7,
   "metadata": {},
   "outputs": [
    {
     "data": {
      "text/plain": [
       "{u'deleted': False,\n",
       " u'id': u'37e858d77d1e0ada',\n",
       " u'latest_workflow_uuid': u'814e6545-db9e-4dc0-b9c4-1c0f9ed68910',\n",
       " u'model_class': u'StoredWorkflow',\n",
       " u'name': u'Convert to tab',\n",
       " u'number_of_steps': 2,\n",
       " u'owner': u'mjuliam',\n",
       " u'published': False,\n",
       " u'tags': [],\n",
       " u'url': u'/api/workflows/37e858d77d1e0ada'}"
      ]
     },
     "execution_count": 7,
     "metadata": {},
     "output_type": "execute_result"
    }
   ],
   "source": [
    "wf = gi.workflows.import_workflow_from_local_path(os.path.join(os.environ['HOME'], 'bioblend-tutorial/test-data/convert_to_tab.ga'))\n",
    "wf"
   ]
  },
  {
   "cell_type": "markdown",
   "metadata": {},
   "source": [
    "6) View the details of the imported workflow using `workflows.show_workflow()` ."
   ]
  },
  {
   "cell_type": "code",
   "execution_count": 8,
   "metadata": {},
   "outputs": [
    {
     "data": {
      "text/plain": [
       "{u'annotation': None,\n",
       " u'deleted': False,\n",
       " u'id': u'37e858d77d1e0ada',\n",
       " u'inputs': {u'0': {u'label': u'Input Dataset',\n",
       "   u'uuid': u'671bca4e-0b76-4a6f-a0a2-70219df56576',\n",
       "   u'value': u''}},\n",
       " u'latest_workflow_uuid': u'814e6545-db9e-4dc0-b9c4-1c0f9ed68910',\n",
       " u'model_class': u'StoredWorkflow',\n",
       " u'name': u'Convert to tab',\n",
       " u'owner': u'mjuliam',\n",
       " u'published': False,\n",
       " u'steps': {u'0': {u'annotation': None,\n",
       "   u'id': 0,\n",
       "   u'input_steps': {},\n",
       "   u'tool_id': None,\n",
       "   u'tool_inputs': {u'name': u'Input Dataset'},\n",
       "   u'tool_version': None,\n",
       "   u'type': u'data_input'},\n",
       "  u'1': {u'annotation': None,\n",
       "   u'id': 1,\n",
       "   u'input_steps': {u'input': {u'source_step': 0, u'step_output': u'output'}},\n",
       "   u'tool_id': u'Convert characters1',\n",
       "   u'tool_inputs': {u'__page__': 0,\n",
       "    u'__rerun_remap_job_id__': None,\n",
       "    u'condense': u'true',\n",
       "    u'convert_from': u's',\n",
       "    u'input': None,\n",
       "    u'strip': u'true'},\n",
       "   u'tool_version': u'1.0.0',\n",
       "   u'type': u'tool'}},\n",
       " u'tags': [],\n",
       " u'url': u'/api/workflows/37e858d77d1e0ada',\n",
       " u'version': 0}"
      ]
     },
     "execution_count": 8,
     "metadata": {},
     "output_type": "execute_result"
    }
   ],
   "source": [
    "wf = gi.workflows.show_workflow(wf['id'])\n",
    "wf"
   ]
  },
  {
   "cell_type": "markdown",
   "metadata": {},
   "source": [
    "7) **Run** the imported workflow on the uploaded dataset **inside the same history** using `workflows.run_workflow()` ."
   ]
  },
  {
   "cell_type": "code",
   "execution_count": 9,
   "metadata": {},
   "outputs": [
    {
     "name": "stdout",
     "output_type": "stream",
     "text": [
      "[u'0']\n"
     ]
    },
    {
     "data": {
      "text/plain": [
       "{u'history': u'153c3c9e6e15ceaa',\n",
       " u'history_id': u'153c3c9e6e15ceaa',\n",
       " u'id': u'b00743462f2c8f98',\n",
       " u'inputs': {u'0': {u'id': u'bbd44e69cb8906b5e0ba19b79f9fd77a',\n",
       "   u'src': u'hda',\n",
       "   u'uuid': u'ed2bbfb4-529e-4692-84a9-6056c16c2c0f'}},\n",
       " u'model_class': u'WorkflowInvocation',\n",
       " u'output_collections': {},\n",
       " u'outputs': [u'bbd44e69cb8906b58302518129af39bb'],\n",
       " u'state': u'scheduled',\n",
       " u'steps': [{u'action': None,\n",
       "   u'id': u'd88709550e2e3545',\n",
       "   u'job_id': u'bbd44e69cb8906b51b5a148e566b2d18',\n",
       "   u'model_class': u'WorkflowInvocationStep',\n",
       "   u'order_index': 1,\n",
       "   u'state': u'scheduled',\n",
       "   u'update_time': u'2019-07-02T14:42:48.209698',\n",
       "   u'workflow_step_id': u'3c070b9c9c138643',\n",
       "   u'workflow_step_label': None,\n",
       "   u'workflow_step_uuid': u'dc5195e6-bf5e-4d1e-8868-21efae3ddc9c'},\n",
       "  {u'action': None,\n",
       "   u'id': u'729d29642b30106c',\n",
       "   u'job_id': None,\n",
       "   u'model_class': u'WorkflowInvocationStep',\n",
       "   u'order_index': 0,\n",
       "   u'state': u'scheduled',\n",
       "   u'update_time': u'2019-07-02T14:42:47.446768',\n",
       "   u'workflow_step_id': u'384fdc49a5bf0859',\n",
       "   u'workflow_step_label': None,\n",
       "   u'workflow_step_uuid': u'671bca4e-0b76-4a6f-a0a2-70219df56576'}],\n",
       " u'update_time': u'2019-07-02T14:42:48.178772',\n",
       " u'uuid': u'a88cfa48-9cd7-11e9-ac1a-005056ba2773',\n",
       " u'workflow_id': u'840d003bf8bc3762'}"
      ]
     },
     "execution_count": 9,
     "metadata": {},
     "output_type": "execute_result"
    }
   ],
   "source": [
    "input_step_ids = wf['inputs'].keys()\n",
    "print(input_step_ids)\n",
    "dataset_map = {input_step_ids[0]: {'id': hda['id'], 'src': 'hda'}}\n",
    "ret = gi.workflows.run_workflow(wf['id'], dataset_map=dataset_map, history_id=new_hist['id'])\n",
    "ret"
   ]
  },
  {
   "cell_type": "markdown",
   "metadata": {},
   "source": [
    "8) View the results on the Galaxy server with your web browser."
   ]
  }
 ],
 "metadata": {
  "kernelspec": {
   "display_name": "Python 2",
   "language": "python",
   "name": "python2"
  },
  "language_info": {
   "codemirror_mode": {
    "name": "ipython",
    "version": 2
   },
   "file_extension": ".py",
   "mimetype": "text/x-python",
   "name": "python",
   "nbconvert_exporter": "python",
   "pygments_lexer": "ipython2",
   "version": "2.7.15rc1"
  }
 },
 "nbformat": 4,
 "nbformat_minor": 1
}
