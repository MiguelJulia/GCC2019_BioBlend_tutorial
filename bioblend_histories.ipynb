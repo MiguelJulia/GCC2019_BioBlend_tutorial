{
 "cells": [
  {
   "cell_type": "markdown",
   "metadata": {},
   "source": [
    "Interacting with histories in BioBlend\n",
    "======================================\n",
    "\n",
    "**You need to insert the API key for your Galaxy server in the cell below**: \n",
    "1. Open the Galaxy server in another browser tab\n",
    "2. Click on \"User\" on the top menu, then \"Preferences\"\n",
    "3. Click on \"Manage API key\"\n",
    "4. Generate an API key if needed, then copy the alphanumeric string and paste it as the value of the `api_key` variable below.\n",
    "\n",
    "The user interacts with a Galaxy server through a `GalaxyInstance` object:"
   ]
  },
  {
   "cell_type": "code",
   "execution_count": 1,
   "metadata": {},
   "outputs": [],
   "source": [
    "from __future__ import print_function\n",
    "\n",
    "import bioblend.galaxy\n",
    "\n",
    "server = 'https://usegalaxy.org/'\n",
    "api_key = '1a6625037e2a986f36dc17e0324743fa'\n",
    "gi = bioblend.galaxy.GalaxyInstance(url=server, key=api_key)"
   ]
  },
  {
   "cell_type": "markdown",
   "metadata": {},
   "source": [
    "The `GalaxyInstance` object gives you access to the various controllers, i.e. the resources you are dealing with, like `histories`, `tools` and `workflows`.\n",
    "Therefore, method calls will have the format `gi.controller.method()`. For example, the call to retrieve all histories owned by the current user is:"
   ]
  },
  {
   "cell_type": "code",
   "execution_count": 2,
   "metadata": {},
   "outputs": [
    {
     "data": {
      "text/plain": [
       "[{u'annotation': None,\n",
       "  u'deleted': False,\n",
       "  u'id': u'435930ea78663f6f',\n",
       "  u'model_class': u'History',\n",
       "  u'name': u'New history',\n",
       "  u'published': False,\n",
       "  u'purged': False,\n",
       "  u'tags': [],\n",
       "  u'url': u'/api/histories/435930ea78663f6f'},\n",
       " {u'annotation': None,\n",
       "  u'deleted': False,\n",
       "  u'id': u'153c3c9e6e15ceaa',\n",
       "  u'model_class': u'History',\n",
       "  u'name': u'New history',\n",
       "  u'published': False,\n",
       "  u'purged': False,\n",
       "  u'tags': [],\n",
       "  u'url': u'/api/histories/153c3c9e6e15ceaa'},\n",
       " {u'annotation': None,\n",
       "  u'deleted': False,\n",
       "  u'id': u'ccaaa3957982cf4b',\n",
       "  u'model_class': u'History',\n",
       "  u'name': u'Unnamed history',\n",
       "  u'published': False,\n",
       "  u'purged': False,\n",
       "  u'tags': [],\n",
       "  u'url': u'/api/histories/ccaaa3957982cf4b'}]"
      ]
     },
     "execution_count": 2,
     "metadata": {},
     "output_type": "execute_result"
    }
   ],
   "source": [
    "gi.histories.get_histories()"
   ]
  },
  {
   "cell_type": "markdown",
   "metadata": {},
   "source": [
    "As you can see, methods in BioBlend do not return JSON strings, but **deserialize** them into Python data structures. In particular, `get_` methods return a list of dictionaries.\n",
    "\n",
    "Each dictionary gives basic info about a resource, e.g. for a history you have:\n",
    "- `id`: the unique **identifier** of the history, needed for all specific requests about this resource\n",
    "- `name`: the name of this history as given by the user\n",
    "- `deleted`: whether the history has been deleted\n",
    "- `url`: the relative URL to get all info about this resource.\n",
    "\n",
    "**New resources** are created with `create_` methods, e.g. the call to create a new history is:"
   ]
  },
  {
   "cell_type": "code",
   "execution_count": 3,
   "metadata": {},
   "outputs": [
    {
     "data": {
      "text/plain": [
       "{u'annotation': None,\n",
       " u'contents_url': u'/api/histories/e9345c75c9299093/contents',\n",
       " u'create_time': u'2019-07-02T14:47:02.518114',\n",
       " u'deleted': False,\n",
       " u'empty': True,\n",
       " u'genome_build': None,\n",
       " u'id': u'e9345c75c9299093',\n",
       " u'importable': False,\n",
       " u'model_class': u'History',\n",
       " u'name': u'BioBlend test',\n",
       " u'published': False,\n",
       " u'purged': False,\n",
       " u'size': 0,\n",
       " u'slug': None,\n",
       " u'state': u'new',\n",
       " u'state_details': {u'discarded': 0,\n",
       "  u'empty': 0,\n",
       "  u'error': 0,\n",
       "  u'failed_metadata': 0,\n",
       "  u'new': 0,\n",
       "  u'ok': 0,\n",
       "  u'paused': 0,\n",
       "  u'queued': 0,\n",
       "  u'running': 0,\n",
       "  u'setting_metadata': 0,\n",
       "  u'upload': 0},\n",
       " u'state_ids': {u'discarded': [],\n",
       "  u'empty': [],\n",
       "  u'error': [],\n",
       "  u'failed_metadata': [],\n",
       "  u'new': [],\n",
       "  u'ok': [],\n",
       "  u'paused': [],\n",
       "  u'queued': [],\n",
       "  u'running': [],\n",
       "  u'setting_metadata': [],\n",
       "  u'upload': []},\n",
       " u'tags': [],\n",
       " u'update_time': u'2019-07-02T14:47:02.518137',\n",
       " u'url': u'/api/histories/e9345c75c9299093',\n",
       " u'user_id': u'2841a31c8997a2d3',\n",
       " u'username_and_slug': None}"
      ]
     },
     "execution_count": 3,
     "metadata": {},
     "output_type": "execute_result"
    }
   ],
   "source": [
    "new_hist = gi.histories.create_history(name='BioBlend test')\n",
    "new_hist"
   ]
  },
  {
   "cell_type": "markdown",
   "metadata": {},
   "source": [
    "As you can see, to make POST requests in BioBlend it is **not necessary to serialize data**, you just pass them explicitly as parameters. The return value is a dictionary with detailed info about the created resource.\n",
    "\n",
    "`get_` methods usually have **filtering** capabilities, e.g. it is possible to filter histories **by name**:"
   ]
  },
  {
   "cell_type": "code",
   "execution_count": 4,
   "metadata": {},
   "outputs": [
    {
     "data": {
      "text/plain": [
       "[{u'annotation': None,\n",
       "  u'deleted': False,\n",
       "  u'id': u'e9345c75c9299093',\n",
       "  u'model_class': u'History',\n",
       "  u'name': u'BioBlend test',\n",
       "  u'published': False,\n",
       "  u'purged': False,\n",
       "  u'tags': [],\n",
       "  u'url': u'/api/histories/e9345c75c9299093'}]"
      ]
     },
     "execution_count": 4,
     "metadata": {},
     "output_type": "execute_result"
    }
   ],
   "source": [
    "gi.histories.get_histories(name='BioBlend test')"
   ]
  },
  {
   "cell_type": "markdown",
   "metadata": {},
   "source": [
    "It is also possible to specify the unique **id** of the resource to retrieve, e.g. to get back the history we created before:"
   ]
  },
  {
   "cell_type": "code",
   "execution_count": 5,
   "metadata": {},
   "outputs": [
    {
     "data": {
      "text/plain": [
       "[{u'annotation': None,\n",
       "  u'deleted': False,\n",
       "  u'id': u'e9345c75c9299093',\n",
       "  u'model_class': u'History',\n",
       "  u'name': u'BioBlend test',\n",
       "  u'published': False,\n",
       "  u'purged': False,\n",
       "  u'tags': [],\n",
       "  u'url': u'/api/histories/e9345c75c9299093'}]"
      ]
     },
     "execution_count": 5,
     "metadata": {},
     "output_type": "execute_result"
    }
   ],
   "source": [
    "hist_id = new_hist['id']\n",
    "gi.histories.get_histories(history_id=hist_id)"
   ]
  },
  {
   "cell_type": "markdown",
   "metadata": {},
   "source": [
    "Please note that independently of which parameters are passed to the `get_` method, it always returns a list."
   ]
  },
  {
   "cell_type": "markdown",
   "metadata": {},
   "source": [
    "To **upload** files to the new history, run the special upload tool by calling the `upload_file` method of the `tools` controller:"
   ]
  },
  {
   "cell_type": "code",
   "execution_count": 6,
   "metadata": {},
   "outputs": [
    {
     "data": {
      "text/plain": [
       "{u'implicit_collections': [],\n",
       " u'jobs': [{u'create_time': u'2019-07-02T14:47:14.539943',\n",
       "   u'exit_code': None,\n",
       "   u'history_id': u'e9345c75c9299093',\n",
       "   u'id': u'bbd44e69cb8906b51e86be5d3b698541',\n",
       "   u'model_class': u'Job',\n",
       "   u'state': u'new',\n",
       "   u'tool_id': u'upload1',\n",
       "   u'update_time': u'2019-07-02T14:47:14.637573'}],\n",
       " u'output_collections': [],\n",
       " u'outputs': [{u'create_time': u'2019-07-02T14:47:14.387505',\n",
       "   u'data_type': u'galaxy.datatypes.data.Data',\n",
       "   u'deleted': False,\n",
       "   u'file_ext': u'auto',\n",
       "   u'file_size': 0,\n",
       "   u'genome_build': u'?',\n",
       "   u'hda_ldda': u'hda',\n",
       "   u'hid': 1,\n",
       "   u'history_content_type': u'dataset',\n",
       "   u'history_id': u'e9345c75c9299093',\n",
       "   u'id': u'bbd44e69cb8906b52077b806b9fd2f87',\n",
       "   u'metadata_dbkey': u'?',\n",
       "   u'misc_blurb': None,\n",
       "   u'misc_info': None,\n",
       "   u'model_class': u'HistoryDatasetAssociation',\n",
       "   u'name': u'1.txt',\n",
       "   u'output_name': u'output0',\n",
       "   u'peek': None,\n",
       "   u'purged': False,\n",
       "   u'state': u'queued',\n",
       "   u'tags': [],\n",
       "   u'update_time': u'2019-07-02T14:47:14.501374',\n",
       "   u'uuid': u'c201d73d-bcfa-46c2-9d11-92f31e930ef2',\n",
       "   u'visible': True}]}"
      ]
     },
     "execution_count": 6,
     "metadata": {},
     "output_type": "execute_result"
    }
   ],
   "source": [
    "ret = gi.tools.upload_file('test-data/1.txt', hist_id)\n",
    "ret"
   ]
  },
  {
   "cell_type": "markdown",
   "metadata": {},
   "source": [
    "If you are interested in more **details** about a given resource, you can use the corresponding `show_` method. For example, to the get more info for the history we have just populated:"
   ]
  },
  {
   "cell_type": "code",
   "execution_count": 7,
   "metadata": {},
   "outputs": [
    {
     "data": {
      "text/plain": [
       "{u'annotation': None,\n",
       " u'contents_url': u'/api/histories/e9345c75c9299093/contents',\n",
       " u'create_time': u'2019-07-02T14:47:02.518114',\n",
       " u'deleted': False,\n",
       " u'empty': False,\n",
       " u'genome_build': None,\n",
       " u'id': u'e9345c75c9299093',\n",
       " u'importable': False,\n",
       " u'model_class': u'History',\n",
       " u'name': u'BioBlend test',\n",
       " u'published': False,\n",
       " u'purged': False,\n",
       " u'size': 0,\n",
       " u'slug': None,\n",
       " u'state': u'queued',\n",
       " u'state_details': {u'discarded': 0,\n",
       "  u'empty': 0,\n",
       "  u'error': 0,\n",
       "  u'failed_metadata': 0,\n",
       "  u'new': 0,\n",
       "  u'ok': 0,\n",
       "  u'paused': 0,\n",
       "  u'queued': 1,\n",
       "  u'running': 0,\n",
       "  u'setting_metadata': 0,\n",
       "  u'upload': 0},\n",
       " u'state_ids': {u'discarded': [],\n",
       "  u'empty': [],\n",
       "  u'error': [],\n",
       "  u'failed_metadata': [],\n",
       "  u'new': [],\n",
       "  u'ok': [],\n",
       "  u'paused': [],\n",
       "  u'queued': [u'bbd44e69cb8906b52077b806b9fd2f87'],\n",
       "  u'running': [],\n",
       "  u'setting_metadata': [],\n",
       "  u'upload': []},\n",
       " u'tags': [],\n",
       " u'update_time': u'2019-07-02T14:47:14.393287',\n",
       " u'url': u'/api/histories/e9345c75c9299093',\n",
       " u'user_id': u'2841a31c8997a2d3',\n",
       " u'username_and_slug': None}"
      ]
     },
     "execution_count": 7,
     "metadata": {},
     "output_type": "execute_result"
    }
   ],
   "source": [
    "gi.histories.show_history(history_id=hist_id)"
   ]
  },
  {
   "cell_type": "markdown",
   "metadata": {},
   "source": [
    "As you can see, there are much more entries in the returned dictionary, e.g.:\n",
    "- `create_time`\n",
    "- `size`: total disk space used by the history\n",
    "- `state_ids`: ids of history datasets for each possible state.\n",
    "\n",
    "To get the list of **datasets contained** in a history, simply add `contents=True` to the previous call."
   ]
  },
  {
   "cell_type": "code",
   "execution_count": 8,
   "metadata": {},
   "outputs": [
    {
     "data": {
      "text/plain": [
       "[{u'create_time': u'2019-07-02T14:47:14.387505',\n",
       "  u'dataset_id': u'bbd44e69cb8906b516970b32e2da953f',\n",
       "  u'deleted': False,\n",
       "  u'extension': u'auto',\n",
       "  u'hid': 1,\n",
       "  u'history_content_type': u'dataset',\n",
       "  u'history_id': u'e9345c75c9299093',\n",
       "  u'id': u'bbd44e69cb8906b52077b806b9fd2f87',\n",
       "  u'name': u'1.txt',\n",
       "  u'purged': False,\n",
       "  u'state': u'queued',\n",
       "  u'tags': [],\n",
       "  u'type': u'file',\n",
       "  u'type_id': u'dataset-bbd44e69cb8906b52077b806b9fd2f87',\n",
       "  u'update_time': u'2019-07-02T14:47:14.501374',\n",
       "  u'url': u'/api/histories/e9345c75c9299093/contents/bbd44e69cb8906b52077b806b9fd2f87',\n",
       "  u'visible': True}]"
      ]
     },
     "execution_count": 8,
     "metadata": {},
     "output_type": "execute_result"
    }
   ],
   "source": [
    "hdas = gi.histories.show_history(history_id=hist_id, contents=True)\n",
    "hdas"
   ]
  },
  {
   "cell_type": "markdown",
   "metadata": {},
   "source": [
    "The dictionaries returned when showing the history content give basic info about each dataset, e.g.: `id`, `name`, `deleted`, `state`, `url`...\n",
    "\n",
    "To get the details about a specific dataset, you can use the `datasets` controller:"
   ]
  },
  {
   "cell_type": "code",
   "execution_count": 9,
   "metadata": {},
   "outputs": [
    {
     "name": "stdout",
     "output_type": "stream",
     "text": [
      "bbd44e69cb8906b52077b806b9fd2f87\n"
     ]
    },
    {
     "data": {
      "text/plain": [
       "{u'accessible': True,\n",
       " u'annotation': None,\n",
       " u'api_type': u'file',\n",
       " u'create_time': u'2019-07-02T14:47:14.387505',\n",
       " u'creating_job': u'bbd44e69cb8906b51e86be5d3b698541',\n",
       " u'data_type': u'galaxy.datatypes.data.Data',\n",
       " u'dataset_id': u'bbd44e69cb8906b516970b32e2da953f',\n",
       " u'deleted': False,\n",
       " u'display_apps': [],\n",
       " u'display_types': [],\n",
       " u'download_url': u'/api/histories/e9345c75c9299093/contents/bbd44e69cb8906b52077b806b9fd2f87/display',\n",
       " u'extension': u'auto',\n",
       " u'file_ext': u'auto',\n",
       " u'file_size': 0,\n",
       " u'genome_build': u'?',\n",
       " u'hda_ldda': u'hda',\n",
       " u'hid': 1,\n",
       " u'history_content_type': u'dataset',\n",
       " u'history_id': u'e9345c75c9299093',\n",
       " u'id': u'bbd44e69cb8906b52077b806b9fd2f87',\n",
       " u'meta_files': [],\n",
       " u'metadata_dbkey': u'?',\n",
       " u'misc_blurb': None,\n",
       " u'misc_info': None,\n",
       " u'model_class': u'HistoryDatasetAssociation',\n",
       " u'name': u'1.txt',\n",
       " u'peek': None,\n",
       " u'purged': False,\n",
       " u'rerunnable': False,\n",
       " u'resubmitted': False,\n",
       " u'state': u'queued',\n",
       " u'tags': [],\n",
       " u'type': u'file',\n",
       " u'type_id': u'dataset-bbd44e69cb8906b52077b806b9fd2f87',\n",
       " u'update_time': u'2019-07-02T14:47:14.501374',\n",
       " u'url': u'/api/histories/e9345c75c9299093/contents/bbd44e69cb8906b52077b806b9fd2f87',\n",
       " u'uuid': u'c201d73d-bcfa-46c2-9d11-92f31e930ef2',\n",
       " u'visible': True,\n",
       " u'visualizations': []}"
      ]
     },
     "execution_count": 9,
     "metadata": {},
     "output_type": "execute_result"
    }
   ],
   "source": [
    "hda0_id = hdas[0]['id']\n",
    "print(hda0_id)\n",
    "gi.datasets.show_dataset(hda0_id)"
   ]
  },
  {
   "cell_type": "markdown",
   "metadata": {},
   "source": [
    "Some of the interesting additional dictionary entries are:\n",
    "- `create_time`\n",
    "- `creating job`: id of the job which created this dataset\n",
    "- `download_url`: URL to download the dataset\n",
    "- `file_ext`: the Galaxy data type of this dataset\n",
    "- `file_size`\n",
    "- `genome_build`: the genome build (dbkey) associated to this dataset.\n",
    "\n",
    "To **update** a resource, use the `update_` method, e.g. to change the name of the new history:"
   ]
  },
  {
   "cell_type": "code",
   "execution_count": 10,
   "metadata": {},
   "outputs": [
    {
     "data": {
      "text/plain": [
       "{u'annotation': None,\n",
       " u'contents_url': u'/api/histories/e9345c75c9299093/contents',\n",
       " u'create_time': u'2019-07-02T14:47:02.518114',\n",
       " u'deleted': False,\n",
       " u'empty': False,\n",
       " u'genome_build': None,\n",
       " u'id': u'e9345c75c9299093',\n",
       " u'importable': False,\n",
       " u'model_class': u'History',\n",
       " u'name': u'Updated history',\n",
       " u'published': False,\n",
       " u'purged': False,\n",
       " u'size': 0,\n",
       " u'slug': None,\n",
       " u'state': u'queued',\n",
       " u'state_details': {u'discarded': 0,\n",
       "  u'empty': 0,\n",
       "  u'error': 0,\n",
       "  u'failed_metadata': 0,\n",
       "  u'new': 0,\n",
       "  u'ok': 0,\n",
       "  u'paused': 0,\n",
       "  u'queued': 1,\n",
       "  u'running': 0,\n",
       "  u'setting_metadata': 0,\n",
       "  u'upload': 0},\n",
       " u'state_ids': {u'discarded': [],\n",
       "  u'empty': [],\n",
       "  u'error': [],\n",
       "  u'failed_metadata': [],\n",
       "  u'new': [],\n",
       "  u'ok': [],\n",
       "  u'paused': [],\n",
       "  u'queued': [u'bbd44e69cb8906b52077b806b9fd2f87'],\n",
       "  u'running': [],\n",
       "  u'setting_metadata': [],\n",
       "  u'upload': []},\n",
       " u'tags': [],\n",
       " u'update_time': u'2019-07-02T14:47:38.770655',\n",
       " u'url': u'/api/histories/e9345c75c9299093',\n",
       " u'user_id': u'2841a31c8997a2d3',\n",
       " u'username_and_slug': None}"
      ]
     },
     "execution_count": 10,
     "metadata": {},
     "output_type": "execute_result"
    }
   ],
   "source": [
    "gi.histories.update_history(new_hist['id'], name='Updated history')"
   ]
  },
  {
   "cell_type": "markdown",
   "metadata": {},
   "source": [
    "The return value of `update_` methods is usually a dictionary with detailed info about the updated resource.\n",
    "\n",
    "Finally to **delete** a resource, use the `delete_` method, e.g.:"
   ]
  },
  {
   "cell_type": "code",
   "execution_count": 11,
   "metadata": {},
   "outputs": [
    {
     "data": {
      "text/plain": [
       "{u'annotation': None,\n",
       " u'contents_url': u'/api/histories/e9345c75c9299093/contents',\n",
       " u'create_time': u'2019-07-02T14:47:02.518114',\n",
       " u'deleted': True,\n",
       " u'empty': False,\n",
       " u'genome_build': None,\n",
       " u'id': u'e9345c75c9299093',\n",
       " u'importable': False,\n",
       " u'model_class': u'History',\n",
       " u'name': u'Updated history',\n",
       " u'published': False,\n",
       " u'purged': False,\n",
       " u'size': 0,\n",
       " u'slug': None,\n",
       " u'state': u'queued',\n",
       " u'state_details': {u'discarded': 0,\n",
       "  u'empty': 0,\n",
       "  u'error': 0,\n",
       "  u'failed_metadata': 0,\n",
       "  u'new': 0,\n",
       "  u'ok': 0,\n",
       "  u'paused': 0,\n",
       "  u'queued': 1,\n",
       "  u'running': 0,\n",
       "  u'setting_metadata': 0,\n",
       "  u'upload': 0},\n",
       " u'state_ids': {u'discarded': [],\n",
       "  u'empty': [],\n",
       "  u'error': [],\n",
       "  u'failed_metadata': [],\n",
       "  u'new': [],\n",
       "  u'ok': [],\n",
       "  u'paused': [],\n",
       "  u'queued': [u'bbd44e69cb8906b52077b806b9fd2f87'],\n",
       "  u'running': [],\n",
       "  u'setting_metadata': [],\n",
       "  u'upload': []},\n",
       " u'tags': [],\n",
       " u'update_time': u'2019-07-02T14:47:42.660355',\n",
       " u'url': u'/api/histories/e9345c75c9299093',\n",
       " u'user_id': u'2841a31c8997a2d3',\n",
       " u'username_and_slug': None}"
      ]
     },
     "execution_count": 11,
     "metadata": {},
     "output_type": "execute_result"
    }
   ],
   "source": [
    "gi.histories.delete_history(new_hist['id'])"
   ]
  }
 ],
 "metadata": {
  "kernelspec": {
   "display_name": "Python 2",
   "language": "python",
   "name": "python2"
  },
  "language_info": {
   "codemirror_mode": {
    "name": "ipython",
    "version": 2
   },
   "file_extension": ".py",
   "mimetype": "text/x-python",
   "name": "python",
   "nbconvert_exporter": "python",
   "pygments_lexer": "ipython2",
   "version": "2.7.15rc1"
  }
 },
 "nbformat": 4,
 "nbformat_minor": 1
}
